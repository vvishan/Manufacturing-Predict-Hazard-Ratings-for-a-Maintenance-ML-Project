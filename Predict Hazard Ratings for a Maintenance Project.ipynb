{
 "cells": [
  {
   "cell_type": "markdown",
   "metadata": {},
   "source": [
    "# Read this first \n",
    "\n",
    "* each comment and text line added here is important and relevant , dont skim through just the code\n",
    "* if the comment asks you to revisit some concepts/modules , do so\n",
    "* this is not complete code on its own , you need to fill in your own code to eventually start building a model"
   ]
  },
  {
   "cell_type": "code",
   "execution_count": 1,
   "metadata": {},
   "outputs": [],
   "source": [
    "import warnings\n",
    "warnings.filterwarnings('ignore')\n",
    "import pandas as pd \n",
    "import numpy as np"
   ]
  },
  {
   "cell_type": "code",
   "execution_count": 2,
   "metadata": {},
   "outputs": [],
   "source": [
    "datafile_train=\"E:/data/Hazard_train.csv\"\n",
    "datafile_test=\"E:/data/Hazard_test_share.csv\"\n",
    "bd_train=pd.read_csv(datafile_train)\n",
    "bd_test=pd.read_csv(datafile_test)"
   ]
  },
  {
   "cell_type": "code",
   "execution_count": 3,
   "metadata": {
    "scrolled": true
   },
   "outputs": [
    {
     "data": {
      "text/html": [
       "<div>\n",
       "<style scoped>\n",
       "    .dataframe tbody tr th:only-of-type {\n",
       "        vertical-align: middle;\n",
       "    }\n",
       "\n",
       "    .dataframe tbody tr th {\n",
       "        vertical-align: top;\n",
       "    }\n",
       "\n",
       "    .dataframe thead th {\n",
       "        text-align: right;\n",
       "    }\n",
       "</style>\n",
       "<table border=\"1\" class=\"dataframe\">\n",
       "  <thead>\n",
       "    <tr style=\"text-align: right;\">\n",
       "      <th></th>\n",
       "      <th>Id</th>\n",
       "      <th>Hazard</th>\n",
       "      <th>T1_V1</th>\n",
       "      <th>T1_V2</th>\n",
       "      <th>T1_V3</th>\n",
       "      <th>T1_V4</th>\n",
       "      <th>T1_V5</th>\n",
       "      <th>T1_V6</th>\n",
       "      <th>T1_V7</th>\n",
       "      <th>T1_V8</th>\n",
       "      <th>...</th>\n",
       "      <th>T2_V6</th>\n",
       "      <th>T2_V7</th>\n",
       "      <th>T2_V8</th>\n",
       "      <th>T2_V9</th>\n",
       "      <th>T2_V10</th>\n",
       "      <th>T2_V11</th>\n",
       "      <th>T2_V12</th>\n",
       "      <th>T2_V13</th>\n",
       "      <th>T2_V14</th>\n",
       "      <th>T2_V15</th>\n",
       "    </tr>\n",
       "  </thead>\n",
       "  <tbody>\n",
       "    <tr>\n",
       "      <th>0</th>\n",
       "      <td>83642</td>\n",
       "      <td>2</td>\n",
       "      <td>10</td>\n",
       "      <td>23</td>\n",
       "      <td>4</td>\n",
       "      <td>N</td>\n",
       "      <td>K</td>\n",
       "      <td>Y</td>\n",
       "      <td>B</td>\n",
       "      <td>D</td>\n",
       "      <td>...</td>\n",
       "      <td>2</td>\n",
       "      <td>37</td>\n",
       "      <td>1</td>\n",
       "      <td>11</td>\n",
       "      <td>2</td>\n",
       "      <td>Y</td>\n",
       "      <td>N</td>\n",
       "      <td>E</td>\n",
       "      <td>2</td>\n",
       "      <td>1</td>\n",
       "    </tr>\n",
       "    <tr>\n",
       "      <th>1</th>\n",
       "      <td>92530</td>\n",
       "      <td>6</td>\n",
       "      <td>3</td>\n",
       "      <td>18</td>\n",
       "      <td>2</td>\n",
       "      <td>B</td>\n",
       "      <td>H</td>\n",
       "      <td>N</td>\n",
       "      <td>B</td>\n",
       "      <td>B</td>\n",
       "      <td>...</td>\n",
       "      <td>2</td>\n",
       "      <td>34</td>\n",
       "      <td>1</td>\n",
       "      <td>12</td>\n",
       "      <td>7</td>\n",
       "      <td>Y</td>\n",
       "      <td>N</td>\n",
       "      <td>C</td>\n",
       "      <td>3</td>\n",
       "      <td>3</td>\n",
       "    </tr>\n",
       "    <tr>\n",
       "      <th>2</th>\n",
       "      <td>86131</td>\n",
       "      <td>4</td>\n",
       "      <td>5</td>\n",
       "      <td>20</td>\n",
       "      <td>4</td>\n",
       "      <td>B</td>\n",
       "      <td>K</td>\n",
       "      <td>N</td>\n",
       "      <td>B</td>\n",
       "      <td>B</td>\n",
       "      <td>...</td>\n",
       "      <td>1</td>\n",
       "      <td>40</td>\n",
       "      <td>1</td>\n",
       "      <td>17</td>\n",
       "      <td>4</td>\n",
       "      <td>Y</td>\n",
       "      <td>N</td>\n",
       "      <td>D</td>\n",
       "      <td>1</td>\n",
       "      <td>1</td>\n",
       "    </tr>\n",
       "    <tr>\n",
       "      <th>3</th>\n",
       "      <td>88666</td>\n",
       "      <td>1</td>\n",
       "      <td>4</td>\n",
       "      <td>7</td>\n",
       "      <td>5</td>\n",
       "      <td>N</td>\n",
       "      <td>H</td>\n",
       "      <td>N</td>\n",
       "      <td>B</td>\n",
       "      <td>B</td>\n",
       "      <td>...</td>\n",
       "      <td>2</td>\n",
       "      <td>37</td>\n",
       "      <td>1</td>\n",
       "      <td>11</td>\n",
       "      <td>6</td>\n",
       "      <td>Y</td>\n",
       "      <td>N</td>\n",
       "      <td>D</td>\n",
       "      <td>2</td>\n",
       "      <td>1</td>\n",
       "    </tr>\n",
       "    <tr>\n",
       "      <th>4</th>\n",
       "      <td>11122</td>\n",
       "      <td>21</td>\n",
       "      <td>10</td>\n",
       "      <td>21</td>\n",
       "      <td>6</td>\n",
       "      <td>N</td>\n",
       "      <td>C</td>\n",
       "      <td>Y</td>\n",
       "      <td>B</td>\n",
       "      <td>C</td>\n",
       "      <td>...</td>\n",
       "      <td>2</td>\n",
       "      <td>40</td>\n",
       "      <td>1</td>\n",
       "      <td>6</td>\n",
       "      <td>6</td>\n",
       "      <td>N</td>\n",
       "      <td>N</td>\n",
       "      <td>D</td>\n",
       "      <td>5</td>\n",
       "      <td>5</td>\n",
       "    </tr>\n",
       "  </tbody>\n",
       "</table>\n",
       "<p>5 rows × 34 columns</p>\n",
       "</div>"
      ],
      "text/plain": [
       "      Id  Hazard  T1_V1  T1_V2  T1_V3 T1_V4 T1_V5 T1_V6 T1_V7 T1_V8  ...  \\\n",
       "0  83642       2     10     23      4     N     K     Y     B     D  ...   \n",
       "1  92530       6      3     18      2     B     H     N     B     B  ...   \n",
       "2  86131       4      5     20      4     B     K     N     B     B  ...   \n",
       "3  88666       1      4      7      5     N     H     N     B     B  ...   \n",
       "4  11122      21     10     21      6     N     C     Y     B     C  ...   \n",
       "\n",
       "  T2_V6  T2_V7 T2_V8 T2_V9  T2_V10  T2_V11 T2_V12 T2_V13 T2_V14  T2_V15  \n",
       "0     2     37     1    11       2       Y      N      E      2       1  \n",
       "1     2     34     1    12       7       Y      N      C      3       3  \n",
       "2     1     40     1    17       4       Y      N      D      1       1  \n",
       "3     2     37     1    11       6       Y      N      D      2       1  \n",
       "4     2     40     1     6       6       N      N      D      5       5  \n",
       "\n",
       "[5 rows x 34 columns]"
      ]
     },
     "execution_count": 3,
     "metadata": {},
     "output_type": "execute_result"
    }
   ],
   "source": [
    "bd_train.head()"
   ]
  },
  {
   "cell_type": "code",
   "execution_count": 4,
   "metadata": {},
   "outputs": [
    {
     "data": {
      "text/html": [
       "<div>\n",
       "<style scoped>\n",
       "    .dataframe tbody tr th:only-of-type {\n",
       "        vertical-align: middle;\n",
       "    }\n",
       "\n",
       "    .dataframe tbody tr th {\n",
       "        vertical-align: top;\n",
       "    }\n",
       "\n",
       "    .dataframe thead th {\n",
       "        text-align: right;\n",
       "    }\n",
       "</style>\n",
       "<table border=\"1\" class=\"dataframe\">\n",
       "  <thead>\n",
       "    <tr style=\"text-align: right;\">\n",
       "      <th></th>\n",
       "      <th>Id</th>\n",
       "      <th>T1_V1</th>\n",
       "      <th>T1_V2</th>\n",
       "      <th>T1_V3</th>\n",
       "      <th>T1_V4</th>\n",
       "      <th>T1_V5</th>\n",
       "      <th>T1_V6</th>\n",
       "      <th>T1_V7</th>\n",
       "      <th>T1_V8</th>\n",
       "      <th>T1_V9</th>\n",
       "      <th>...</th>\n",
       "      <th>T2_V6</th>\n",
       "      <th>T2_V7</th>\n",
       "      <th>T2_V8</th>\n",
       "      <th>T2_V9</th>\n",
       "      <th>T2_V10</th>\n",
       "      <th>T2_V11</th>\n",
       "      <th>T2_V12</th>\n",
       "      <th>T2_V13</th>\n",
       "      <th>T2_V14</th>\n",
       "      <th>T2_V15</th>\n",
       "    </tr>\n",
       "  </thead>\n",
       "  <tbody>\n",
       "    <tr>\n",
       "      <th>0</th>\n",
       "      <td>67943</td>\n",
       "      <td>9</td>\n",
       "      <td>18</td>\n",
       "      <td>2</td>\n",
       "      <td>N</td>\n",
       "      <td>B</td>\n",
       "      <td>Y</td>\n",
       "      <td>B</td>\n",
       "      <td>C</td>\n",
       "      <td>D</td>\n",
       "      <td>...</td>\n",
       "      <td>2</td>\n",
       "      <td>34</td>\n",
       "      <td>1</td>\n",
       "      <td>14</td>\n",
       "      <td>4</td>\n",
       "      <td>Y</td>\n",
       "      <td>N</td>\n",
       "      <td>E</td>\n",
       "      <td>3</td>\n",
       "      <td>3</td>\n",
       "    </tr>\n",
       "    <tr>\n",
       "      <th>1</th>\n",
       "      <td>38287</td>\n",
       "      <td>12</td>\n",
       "      <td>20</td>\n",
       "      <td>5</td>\n",
       "      <td>N</td>\n",
       "      <td>C</td>\n",
       "      <td>Y</td>\n",
       "      <td>D</td>\n",
       "      <td>B</td>\n",
       "      <td>D</td>\n",
       "      <td>...</td>\n",
       "      <td>1</td>\n",
       "      <td>40</td>\n",
       "      <td>1</td>\n",
       "      <td>9</td>\n",
       "      <td>3</td>\n",
       "      <td>Y</td>\n",
       "      <td>N</td>\n",
       "      <td>E</td>\n",
       "      <td>1</td>\n",
       "      <td>1</td>\n",
       "    </tr>\n",
       "    <tr>\n",
       "      <th>2</th>\n",
       "      <td>51951</td>\n",
       "      <td>14</td>\n",
       "      <td>18</td>\n",
       "      <td>1</td>\n",
       "      <td>N</td>\n",
       "      <td>K</td>\n",
       "      <td>Y</td>\n",
       "      <td>B</td>\n",
       "      <td>D</td>\n",
       "      <td>E</td>\n",
       "      <td>...</td>\n",
       "      <td>2</td>\n",
       "      <td>25</td>\n",
       "      <td>1</td>\n",
       "      <td>1</td>\n",
       "      <td>4</td>\n",
       "      <td>Y</td>\n",
       "      <td>N</td>\n",
       "      <td>E</td>\n",
       "      <td>2</td>\n",
       "      <td>1</td>\n",
       "    </tr>\n",
       "    <tr>\n",
       "      <th>3</th>\n",
       "      <td>40476</td>\n",
       "      <td>19</td>\n",
       "      <td>16</td>\n",
       "      <td>1</td>\n",
       "      <td>W</td>\n",
       "      <td>H</td>\n",
       "      <td>Y</td>\n",
       "      <td>B</td>\n",
       "      <td>B</td>\n",
       "      <td>D</td>\n",
       "      <td>...</td>\n",
       "      <td>2</td>\n",
       "      <td>25</td>\n",
       "      <td>1</td>\n",
       "      <td>1</td>\n",
       "      <td>7</td>\n",
       "      <td>Y</td>\n",
       "      <td>N</td>\n",
       "      <td>D</td>\n",
       "      <td>2</td>\n",
       "      <td>11</td>\n",
       "    </tr>\n",
       "    <tr>\n",
       "      <th>4</th>\n",
       "      <td>101190</td>\n",
       "      <td>12</td>\n",
       "      <td>21</td>\n",
       "      <td>2</td>\n",
       "      <td>B</td>\n",
       "      <td>K</td>\n",
       "      <td>Y</td>\n",
       "      <td>B</td>\n",
       "      <td>B</td>\n",
       "      <td>E</td>\n",
       "      <td>...</td>\n",
       "      <td>2</td>\n",
       "      <td>22</td>\n",
       "      <td>1</td>\n",
       "      <td>20</td>\n",
       "      <td>6</td>\n",
       "      <td>Y</td>\n",
       "      <td>N</td>\n",
       "      <td>C</td>\n",
       "      <td>2</td>\n",
       "      <td>1</td>\n",
       "    </tr>\n",
       "  </tbody>\n",
       "</table>\n",
       "<p>5 rows × 33 columns</p>\n",
       "</div>"
      ],
      "text/plain": [
       "       Id  T1_V1  T1_V2  T1_V3 T1_V4 T1_V5 T1_V6 T1_V7 T1_V8 T1_V9  ...  \\\n",
       "0   67943      9     18      2     N     B     Y     B     C     D  ...   \n",
       "1   38287     12     20      5     N     C     Y     D     B     D  ...   \n",
       "2   51951     14     18      1     N     K     Y     B     D     E  ...   \n",
       "3   40476     19     16      1     W     H     Y     B     B     D  ...   \n",
       "4  101190     12     21      2     B     K     Y     B     B     E  ...   \n",
       "\n",
       "   T2_V6 T2_V7 T2_V8  T2_V9  T2_V10 T2_V11 T2_V12 T2_V13  T2_V14  T2_V15  \n",
       "0      2    34     1     14       4      Y      N      E       3       3  \n",
       "1      1    40     1      9       3      Y      N      E       1       1  \n",
       "2      2    25     1      1       4      Y      N      E       2       1  \n",
       "3      2    25     1      1       7      Y      N      D       2      11  \n",
       "4      2    22     1     20       6      Y      N      C       2       1  \n",
       "\n",
       "[5 rows x 33 columns]"
      ]
     },
     "execution_count": 4,
     "metadata": {},
     "output_type": "execute_result"
    }
   ],
   "source": [
    "bd_test.head()"
   ]
  },
  {
   "cell_type": "code",
   "execution_count": 6,
   "metadata": {},
   "outputs": [],
   "source": [
    "cat_cols=bd_train.select_dtypes(['object']).columns"
   ]
  },
  {
   "cell_type": "code",
   "execution_count": 7,
   "metadata": {},
   "outputs": [
    {
     "data": {
      "text/plain": [
       "Index(['T1_V4', 'T1_V5', 'T1_V6', 'T1_V7', 'T1_V8', 'T1_V9', 'T1_V11',\n",
       "       'T1_V12', 'T1_V15', 'T1_V16', 'T1_V17', 'T2_V3', 'T2_V5', 'T2_V11',\n",
       "       'T2_V12', 'T2_V13'],\n",
       "      dtype='object')"
      ]
     },
     "execution_count": 7,
     "metadata": {},
     "output_type": "execute_result"
    }
   ],
   "source": [
    "cat_cols"
   ]
  },
  {
   "cell_type": "code",
   "execution_count": 8,
   "metadata": {},
   "outputs": [],
   "source": [
    "bd_train['data']='train'\n",
    "bd_test['data']='test'\n"
   ]
  },
  {
   "cell_type": "code",
   "execution_count": 9,
   "metadata": {},
   "outputs": [],
   "source": [
    "all_data=pd.concat([bd_train,bd_test],0,sort=False)"
   ]
  },
  {
   "cell_type": "code",
   "execution_count": 10,
   "metadata": {},
   "outputs": [
    {
     "data": {
      "text/plain": [
       "array(['train', 'test'], dtype=object)"
      ]
     },
     "execution_count": 10,
     "metadata": {},
     "output_type": "execute_result"
    }
   ],
   "source": [
    "all_data['data'].unique()"
   ]
  },
  {
   "cell_type": "code",
   "execution_count": 11,
   "metadata": {},
   "outputs": [],
   "source": [
    "for col in cat_cols:\n",
    "    k=all_data[col].value_counts()\n",
    "    cats=k[k>=100].index[:-1]\n",
    "    \n",
    "    for cat in cats:\n",
    "        name=col+'_'+cat\n",
    "        all_data[name]=(all_data[col]==cat).astype(int)\n",
    "        \n",
    "    del all_data[col]"
   ]
  },
  {
   "cell_type": "code",
   "execution_count": 12,
   "metadata": {},
   "outputs": [
    {
     "data": {
      "text/plain": [
       "(50999, 94)"
      ]
     },
     "execution_count": 12,
     "metadata": {},
     "output_type": "execute_result"
    }
   ],
   "source": [
    "all_data.shape"
   ]
  },
  {
   "cell_type": "code",
   "execution_count": 13,
   "metadata": {},
   "outputs": [
    {
     "data": {
      "text/html": [
       "<div>\n",
       "<style scoped>\n",
       "    .dataframe tbody tr th:only-of-type {\n",
       "        vertical-align: middle;\n",
       "    }\n",
       "\n",
       "    .dataframe tbody tr th {\n",
       "        vertical-align: top;\n",
       "    }\n",
       "\n",
       "    .dataframe thead th {\n",
       "        text-align: right;\n",
       "    }\n",
       "</style>\n",
       "<table border=\"1\" class=\"dataframe\">\n",
       "  <thead>\n",
       "    <tr style=\"text-align: right;\">\n",
       "      <th></th>\n",
       "      <th>Id</th>\n",
       "      <th>Hazard</th>\n",
       "      <th>T1_V1</th>\n",
       "      <th>T1_V2</th>\n",
       "      <th>T1_V3</th>\n",
       "      <th>T1_V10</th>\n",
       "      <th>T1_V13</th>\n",
       "      <th>T1_V14</th>\n",
       "      <th>T2_V1</th>\n",
       "      <th>T2_V2</th>\n",
       "      <th>...</th>\n",
       "      <th>T2_V5_A</th>\n",
       "      <th>T2_V5_B</th>\n",
       "      <th>T2_V5_C</th>\n",
       "      <th>T2_V5_D</th>\n",
       "      <th>T2_V11_Y</th>\n",
       "      <th>T2_V12_N</th>\n",
       "      <th>T2_V13_E</th>\n",
       "      <th>T2_V13_A</th>\n",
       "      <th>T2_V13_C</th>\n",
       "      <th>T2_V13_D</th>\n",
       "    </tr>\n",
       "  </thead>\n",
       "  <tbody>\n",
       "    <tr>\n",
       "      <th>0</th>\n",
       "      <td>83642</td>\n",
       "      <td>2.0</td>\n",
       "      <td>10</td>\n",
       "      <td>23</td>\n",
       "      <td>4</td>\n",
       "      <td>2</td>\n",
       "      <td>10</td>\n",
       "      <td>0</td>\n",
       "      <td>52</td>\n",
       "      <td>14</td>\n",
       "      <td>...</td>\n",
       "      <td>0</td>\n",
       "      <td>0</td>\n",
       "      <td>1</td>\n",
       "      <td>0</td>\n",
       "      <td>1</td>\n",
       "      <td>1</td>\n",
       "      <td>1</td>\n",
       "      <td>0</td>\n",
       "      <td>0</td>\n",
       "      <td>0</td>\n",
       "    </tr>\n",
       "    <tr>\n",
       "      <th>1</th>\n",
       "      <td>92530</td>\n",
       "      <td>6.0</td>\n",
       "      <td>3</td>\n",
       "      <td>18</td>\n",
       "      <td>2</td>\n",
       "      <td>8</td>\n",
       "      <td>10</td>\n",
       "      <td>3</td>\n",
       "      <td>39</td>\n",
       "      <td>14</td>\n",
       "      <td>...</td>\n",
       "      <td>1</td>\n",
       "      <td>0</td>\n",
       "      <td>0</td>\n",
       "      <td>0</td>\n",
       "      <td>1</td>\n",
       "      <td>1</td>\n",
       "      <td>0</td>\n",
       "      <td>0</td>\n",
       "      <td>1</td>\n",
       "      <td>0</td>\n",
       "    </tr>\n",
       "    <tr>\n",
       "      <th>2</th>\n",
       "      <td>86131</td>\n",
       "      <td>4.0</td>\n",
       "      <td>5</td>\n",
       "      <td>20</td>\n",
       "      <td>4</td>\n",
       "      <td>7</td>\n",
       "      <td>15</td>\n",
       "      <td>1</td>\n",
       "      <td>66</td>\n",
       "      <td>10</td>\n",
       "      <td>...</td>\n",
       "      <td>0</td>\n",
       "      <td>0</td>\n",
       "      <td>1</td>\n",
       "      <td>0</td>\n",
       "      <td>1</td>\n",
       "      <td>1</td>\n",
       "      <td>0</td>\n",
       "      <td>0</td>\n",
       "      <td>0</td>\n",
       "      <td>1</td>\n",
       "    </tr>\n",
       "    <tr>\n",
       "      <th>3</th>\n",
       "      <td>88666</td>\n",
       "      <td>1.0</td>\n",
       "      <td>4</td>\n",
       "      <td>7</td>\n",
       "      <td>5</td>\n",
       "      <td>8</td>\n",
       "      <td>15</td>\n",
       "      <td>3</td>\n",
       "      <td>48</td>\n",
       "      <td>11</td>\n",
       "      <td>...</td>\n",
       "      <td>0</td>\n",
       "      <td>1</td>\n",
       "      <td>0</td>\n",
       "      <td>0</td>\n",
       "      <td>1</td>\n",
       "      <td>1</td>\n",
       "      <td>0</td>\n",
       "      <td>0</td>\n",
       "      <td>0</td>\n",
       "      <td>1</td>\n",
       "    </tr>\n",
       "    <tr>\n",
       "      <th>4</th>\n",
       "      <td>11122</td>\n",
       "      <td>21.0</td>\n",
       "      <td>10</td>\n",
       "      <td>21</td>\n",
       "      <td>6</td>\n",
       "      <td>12</td>\n",
       "      <td>10</td>\n",
       "      <td>1</td>\n",
       "      <td>42</td>\n",
       "      <td>11</td>\n",
       "      <td>...</td>\n",
       "      <td>1</td>\n",
       "      <td>0</td>\n",
       "      <td>0</td>\n",
       "      <td>0</td>\n",
       "      <td>0</td>\n",
       "      <td>1</td>\n",
       "      <td>0</td>\n",
       "      <td>0</td>\n",
       "      <td>0</td>\n",
       "      <td>1</td>\n",
       "    </tr>\n",
       "  </tbody>\n",
       "</table>\n",
       "<p>5 rows × 94 columns</p>\n",
       "</div>"
      ],
      "text/plain": [
       "      Id  Hazard  T1_V1  T1_V2  T1_V3  T1_V10  T1_V13  T1_V14  T2_V1  T2_V2  \\\n",
       "0  83642     2.0     10     23      4       2      10       0     52     14   \n",
       "1  92530     6.0      3     18      2       8      10       3     39     14   \n",
       "2  86131     4.0      5     20      4       7      15       1     66     10   \n",
       "3  88666     1.0      4      7      5       8      15       3     48     11   \n",
       "4  11122    21.0     10     21      6      12      10       1     42     11   \n",
       "\n",
       "   ...  T2_V5_A  T2_V5_B  T2_V5_C  T2_V5_D  T2_V11_Y  T2_V12_N  T2_V13_E  \\\n",
       "0  ...        0        0        1        0         1         1         1   \n",
       "1  ...        1        0        0        0         1         1         0   \n",
       "2  ...        0        0        1        0         1         1         0   \n",
       "3  ...        0        1        0        0         1         1         0   \n",
       "4  ...        1        0        0        0         0         1         0   \n",
       "\n",
       "   T2_V13_A T2_V13_C  T2_V13_D  \n",
       "0         0        0         0  \n",
       "1         0        1         0  \n",
       "2         0        0         1  \n",
       "3         0        0         1  \n",
       "4         0        0         1  \n",
       "\n",
       "[5 rows x 94 columns]"
      ]
     },
     "execution_count": 13,
     "metadata": {},
     "output_type": "execute_result"
    }
   ],
   "source": [
    "all_data.head()"
   ]
  },
  {
   "cell_type": "code",
   "execution_count": 14,
   "metadata": {},
   "outputs": [],
   "source": [
    "x_train=all_data.drop(['Id','Hazard','data'],1)[all_data['data']=='train']\n",
    "y_train=all_data['Hazard'][all_data['data']=='train']"
   ]
  },
  {
   "cell_type": "code",
   "execution_count": 15,
   "metadata": {},
   "outputs": [
    {
     "data": {
      "text/plain": [
       "((40799, 91), (40799,))"
      ]
     },
     "execution_count": 15,
     "metadata": {},
     "output_type": "execute_result"
    }
   ],
   "source": [
    "x_train.shape, y_train.shape"
   ]
  },
  {
   "cell_type": "code",
   "execution_count": 16,
   "metadata": {},
   "outputs": [],
   "source": [
    "x_test=all_data.drop(['Id','Hazard','data'],1)[all_data['data']=='test']"
   ]
  },
  {
   "cell_type": "code",
   "execution_count": 20,
   "metadata": {},
   "outputs": [
    {
     "name": "stdout",
     "output_type": "stream",
     "text": [
      "Collecting xgboost\n",
      "  Using cached xgboost-1.6.2-py3-none-win_amd64.whl (125.4 MB)\n",
      "Requirement already satisfied: numpy in c:\\users\\vvishan\\appdata\\roaming\\python\\python37\\site-packages (from xgboost) (1.21.6)\n",
      "Requirement already satisfied: scipy in c:\\users\\vvishan\\appdata\\roaming\\python\\python37\\site-packages (from xgboost) (1.7.3)\n",
      "Installing collected packages: xgboost\n",
      "Successfully installed xgboost-1.6.2\n",
      "Note: you may need to restart the kernel to use updated packages.\n"
     ]
    },
    {
     "name": "stderr",
     "output_type": "stream",
     "text": [
      "Keyring is skipped due to an exception: 'keyring.backends'\n"
     ]
    }
   ],
   "source": [
    "pip install xgboost"
   ]
  },
  {
   "cell_type": "code",
   "execution_count": 21,
   "metadata": {},
   "outputs": [],
   "source": [
    "#import xgboost\n",
    "from xgboost.sklearn import XGBRegressor\n",
    "from sklearn.model_selection import RandomizedSearchCV"
   ]
  },
  {
   "cell_type": "code",
   "execution_count": 22,
   "metadata": {},
   "outputs": [],
   "source": [
    "parameters = {'objective':['count:poisson'],\n",
    "              \"learning_rate\": (0.05, 0.10, 0.15),\n",
    "                        \"max_depth\": [ 3, 4, 5, 6, 8],\n",
    "                        \"min_child_weight\": [ 1, 3, 5, 7],\n",
    "                        \"gamma\":[ 0.0, 0.1, 0.2],\n",
    "                        \"colsample_bytree\":[ 0.3, 0.4]}"
   ]
  },
  {
   "cell_type": "code",
   "execution_count": 23,
   "metadata": {},
   "outputs": [],
   "source": [
    "model= XGBRegressor()"
   ]
  },
  {
   "cell_type": "code",
   "execution_count": 24,
   "metadata": {},
   "outputs": [
    {
     "name": "stdout",
     "output_type": "stream",
     "text": [
      "Fitting 10 folds for each of 10 candidates, totalling 100 fits\n"
     ]
    },
    {
     "name": "stderr",
     "output_type": "stream",
     "text": [
      "[Parallel(n_jobs=-1)]: Using backend LokyBackend with 4 concurrent workers.\n",
      "[Parallel(n_jobs=-1)]: Done   1 tasks      | elapsed:   30.5s\n",
      "[Parallel(n_jobs=-1)]: Done   2 tasks      | elapsed:   30.6s\n",
      "[Parallel(n_jobs=-1)]: Done   3 tasks      | elapsed:   30.7s\n",
      "[Parallel(n_jobs=-1)]: Done   4 tasks      | elapsed:   30.9s\n",
      "[Parallel(n_jobs=-1)]: Done   5 tasks      | elapsed:   54.8s\n",
      "[Parallel(n_jobs=-1)]: Done   6 tasks      | elapsed:   54.8s\n",
      "[Parallel(n_jobs=-1)]: Done   7 tasks      | elapsed:   55.0s\n",
      "[Parallel(n_jobs=-1)]: Done   8 tasks      | elapsed:   55.3s\n",
      "[Parallel(n_jobs=-1)]: Done   9 tasks      | elapsed:  1.3min\n",
      "[Parallel(n_jobs=-1)]: Done  10 tasks      | elapsed:  1.3min\n",
      "[Parallel(n_jobs=-1)]: Done  11 tasks      | elapsed:  1.3min\n",
      "[Parallel(n_jobs=-1)]: Done  12 tasks      | elapsed:  1.3min\n",
      "[Parallel(n_jobs=-1)]: Done  13 tasks      | elapsed:  1.7min\n",
      "[Parallel(n_jobs=-1)]: Done  14 tasks      | elapsed:  1.7min\n",
      "[Parallel(n_jobs=-1)]: Done  15 tasks      | elapsed:  1.7min\n",
      "[Parallel(n_jobs=-1)]: Done  16 tasks      | elapsed:  1.7min\n",
      "[Parallel(n_jobs=-1)]: Done  17 tasks      | elapsed:  2.0min\n",
      "[Parallel(n_jobs=-1)]: Done  18 tasks      | elapsed:  2.0min\n",
      "[Parallel(n_jobs=-1)]: Done  19 tasks      | elapsed:  2.1min\n",
      "[Parallel(n_jobs=-1)]: Done  20 tasks      | elapsed:  2.1min\n",
      "[Parallel(n_jobs=-1)]: Done  21 tasks      | elapsed:  2.2min\n",
      "[Parallel(n_jobs=-1)]: Done  22 tasks      | elapsed:  2.2min\n",
      "[Parallel(n_jobs=-1)]: Done  23 tasks      | elapsed:  2.3min\n",
      "[Parallel(n_jobs=-1)]: Done  24 tasks      | elapsed:  2.3min\n",
      "[Parallel(n_jobs=-1)]: Done  25 tasks      | elapsed:  2.4min\n",
      "[Parallel(n_jobs=-1)]: Done  26 tasks      | elapsed:  2.4min\n",
      "[Parallel(n_jobs=-1)]: Done  27 tasks      | elapsed:  2.5min\n",
      "[Parallel(n_jobs=-1)]: Done  28 tasks      | elapsed:  2.5min\n",
      "[Parallel(n_jobs=-1)]: Done  29 tasks      | elapsed:  2.6min\n",
      "[Parallel(n_jobs=-1)]: Done  30 tasks      | elapsed:  2.6min\n",
      "[Parallel(n_jobs=-1)]: Done  31 tasks      | elapsed:  2.7min\n",
      "[Parallel(n_jobs=-1)]: Done  32 tasks      | elapsed:  2.7min\n",
      "[Parallel(n_jobs=-1)]: Done  33 tasks      | elapsed:  2.8min\n",
      "[Parallel(n_jobs=-1)]: Done  34 tasks      | elapsed:  2.8min\n",
      "[Parallel(n_jobs=-1)]: Done  35 tasks      | elapsed:  2.9min\n",
      "[Parallel(n_jobs=-1)]: Done  36 tasks      | elapsed:  2.9min\n",
      "[Parallel(n_jobs=-1)]: Done  37 tasks      | elapsed:  3.0min\n",
      "[Parallel(n_jobs=-1)]: Done  38 tasks      | elapsed:  3.0min\n",
      "[Parallel(n_jobs=-1)]: Done  39 tasks      | elapsed:  3.1min\n",
      "[Parallel(n_jobs=-1)]: Done  40 tasks      | elapsed:  3.1min\n",
      "[Parallel(n_jobs=-1)]: Done  41 tasks      | elapsed:  3.2min\n",
      "[Parallel(n_jobs=-1)]: Done  42 tasks      | elapsed:  3.2min\n",
      "[Parallel(n_jobs=-1)]: Done  43 tasks      | elapsed:  3.3min\n",
      "[Parallel(n_jobs=-1)]: Done  44 tasks      | elapsed:  3.3min\n",
      "[Parallel(n_jobs=-1)]: Done  45 tasks      | elapsed:  3.4min\n",
      "[Parallel(n_jobs=-1)]: Done  46 tasks      | elapsed:  3.5min\n",
      "[Parallel(n_jobs=-1)]: Done  47 tasks      | elapsed:  3.5min\n",
      "[Parallel(n_jobs=-1)]: Done  48 tasks      | elapsed:  3.5min\n",
      "[Parallel(n_jobs=-1)]: Done  49 tasks      | elapsed:  3.7min\n",
      "[Parallel(n_jobs=-1)]: Done  50 tasks      | elapsed:  3.7min\n",
      "[Parallel(n_jobs=-1)]: Done  51 tasks      | elapsed:  3.7min\n",
      "[Parallel(n_jobs=-1)]: Done  52 tasks      | elapsed:  3.7min\n",
      "[Parallel(n_jobs=-1)]: Done  53 tasks      | elapsed:  3.9min\n",
      "[Parallel(n_jobs=-1)]: Done  54 tasks      | elapsed:  3.9min\n",
      "[Parallel(n_jobs=-1)]: Done  55 tasks      | elapsed:  4.0min\n",
      "[Parallel(n_jobs=-1)]: Done  56 tasks      | elapsed:  4.0min\n",
      "[Parallel(n_jobs=-1)]: Done  57 tasks      | elapsed:  4.1min\n",
      "[Parallel(n_jobs=-1)]: Done  58 tasks      | elapsed:  4.1min\n",
      "[Parallel(n_jobs=-1)]: Done  59 tasks      | elapsed:  4.2min\n",
      "[Parallel(n_jobs=-1)]: Done  60 tasks      | elapsed:  4.2min\n",
      "[Parallel(n_jobs=-1)]: Done  61 tasks      | elapsed:  4.4min\n",
      "[Parallel(n_jobs=-1)]: Done  62 tasks      | elapsed:  4.4min\n",
      "[Parallel(n_jobs=-1)]: Done  63 tasks      | elapsed:  4.4min\n",
      "[Parallel(n_jobs=-1)]: Done  64 tasks      | elapsed:  4.4min\n",
      "[Parallel(n_jobs=-1)]: Done  65 tasks      | elapsed:  4.6min\n",
      "[Parallel(n_jobs=-1)]: Done  66 tasks      | elapsed:  4.6min\n",
      "[Parallel(n_jobs=-1)]: Done  67 tasks      | elapsed:  4.7min\n",
      "[Parallel(n_jobs=-1)]: Done  68 tasks      | elapsed:  4.7min\n",
      "[Parallel(n_jobs=-1)]: Done  69 tasks      | elapsed:  4.9min\n",
      "[Parallel(n_jobs=-1)]: Done  70 tasks      | elapsed:  4.9min\n",
      "[Parallel(n_jobs=-1)]: Done  71 tasks      | elapsed:  4.9min\n",
      "[Parallel(n_jobs=-1)]: Done  72 tasks      | elapsed:  4.9min\n",
      "[Parallel(n_jobs=-1)]: Done  73 tasks      | elapsed:  5.1min\n",
      "[Parallel(n_jobs=-1)]: Done  74 tasks      | elapsed:  5.1min\n",
      "[Parallel(n_jobs=-1)]: Done  75 tasks      | elapsed:  5.2min\n",
      "[Parallel(n_jobs=-1)]: Done  76 tasks      | elapsed:  5.2min\n",
      "[Parallel(n_jobs=-1)]: Done  77 tasks      | elapsed:  5.4min\n",
      "[Parallel(n_jobs=-1)]: Done  78 tasks      | elapsed:  5.4min\n",
      "[Parallel(n_jobs=-1)]: Done  79 tasks      | elapsed:  5.4min\n",
      "[Parallel(n_jobs=-1)]: Done  80 tasks      | elapsed:  5.4min\n",
      "[Parallel(n_jobs=-1)]: Done  81 tasks      | elapsed:  5.5min\n",
      "[Parallel(n_jobs=-1)]: Done  82 tasks      | elapsed:  5.5min\n",
      "[Parallel(n_jobs=-1)]: Done  83 tasks      | elapsed:  5.6min\n",
      "[Parallel(n_jobs=-1)]: Done  84 tasks      | elapsed:  5.6min\n",
      "[Parallel(n_jobs=-1)]: Done  85 tasks      | elapsed:  5.7min\n",
      "[Parallel(n_jobs=-1)]: Done  86 tasks      | elapsed:  5.7min\n",
      "[Parallel(n_jobs=-1)]: Done  87 tasks      | elapsed:  5.8min\n",
      "[Parallel(n_jobs=-1)]: Done  88 tasks      | elapsed:  5.8min\n",
      "[Parallel(n_jobs=-1)]: Done  89 tasks      | elapsed:  5.9min\n",
      "[Parallel(n_jobs=-1)]: Done  90 tasks      | elapsed:  5.9min\n",
      "[Parallel(n_jobs=-1)]: Done  91 tasks      | elapsed:  6.0min\n",
      "[Parallel(n_jobs=-1)]: Done  92 tasks      | elapsed:  6.0min\n",
      "[Parallel(n_jobs=-1)]: Done  93 tasks      | elapsed:  6.2min\n",
      "[Parallel(n_jobs=-1)]: Done 100 out of 100 | elapsed:  6.5min finished\n"
     ]
    },
    {
     "data": {
      "text/plain": [
       "RandomizedSearchCV(cv=10, error_score=nan,\n",
       "                   estimator=XGBRegressor(base_score=None, booster=None,\n",
       "                                          callbacks=None,\n",
       "                                          colsample_bylevel=None,\n",
       "                                          colsample_bynode=None,\n",
       "                                          colsample_bytree=None,\n",
       "                                          early_stopping_rounds=None,\n",
       "                                          enable_categorical=False,\n",
       "                                          eval_metric=None, gamma=None,\n",
       "                                          gpu_id=None, grow_policy=None,\n",
       "                                          importance_type=None,\n",
       "                                          interaction_constraints=None,\n",
       "                                          learning_rate=No...\n",
       "                                          reg_alpha=None, ...),\n",
       "                   iid='deprecated', n_iter=10, n_jobs=-1,\n",
       "                   param_distributions={'colsample_bytree': [0.3, 0.4],\n",
       "                                        'gamma': [0.0, 0.1, 0.2],\n",
       "                                        'learning_rate': (0.05, 0.1, 0.15),\n",
       "                                        'max_depth': [3, 4, 5, 6, 8],\n",
       "                                        'min_child_weight': [1, 3, 5, 7],\n",
       "                                        'objective': ['count:poisson']},\n",
       "                   pre_dispatch='2*n_jobs', random_state=None, refit=True,\n",
       "                   return_train_score=False, scoring='neg_mean_absolute_error',\n",
       "                   verbose=20)"
      ]
     },
     "execution_count": 24,
     "metadata": {},
     "output_type": "execute_result"
    }
   ],
   "source": [
    "grid_xgb = RandomizedSearchCV(model,param_distributions=parameters, cv=10,n_iter=10,scoring='neg_mean_absolute_error',verbose=20,n_jobs=-1)\n",
    "grid_xgb.fit(x_train,y_train,verbose = 1)\n"
   ]
  },
  {
   "cell_type": "code",
   "execution_count": 25,
   "metadata": {},
   "outputs": [
    {
     "data": {
      "text/plain": [
       "{'objective': 'count:poisson',\n",
       " 'min_child_weight': 5,\n",
       " 'max_depth': 6,\n",
       " 'learning_rate': 0.05,\n",
       " 'gamma': 0.1,\n",
       " 'colsample_bytree': 0.4}"
      ]
     },
     "execution_count": 25,
     "metadata": {},
     "output_type": "execute_result"
    }
   ],
   "source": [
    "grid_xgb.best_params_"
   ]
  },
  {
   "cell_type": "code",
   "execution_count": 27,
   "metadata": {},
   "outputs": [],
   "source": [
    "RG=XGBRegressor(**{'objective': 'count:poisson',\n",
    " 'min_child_weight': 5,\n",
    " 'max_depth': 6,\n",
    " 'learning_rate': 0.05,\n",
    " 'gamma': 0.1,\n",
    " 'colsample_bytree': 0.4})"
   ]
  },
  {
   "cell_type": "code",
   "execution_count": 28,
   "metadata": {},
   "outputs": [],
   "source": [
    "XGReg=RG.fit(x_train,y_train)"
   ]
  },
  {
   "cell_type": "code",
   "execution_count": 29,
   "metadata": {},
   "outputs": [],
   "source": [
    "from sklearn.metrics import mean_absolute_error\n",
    "from sklearn.metrics import r2_score"
   ]
  },
  {
   "cell_type": "code",
   "execution_count": 30,
   "metadata": {
    "collapsed": true
   },
   "outputs": [
    {
     "ename": "NameError",
     "evalue": "name 'y_pred_train' is not defined",
     "output_type": "error",
     "traceback": [
      "\u001b[1;31m---------------------------------------------------------------------------\u001b[0m",
      "\u001b[1;31mNameError\u001b[0m                                 Traceback (most recent call last)",
      "\u001b[1;32m<ipython-input-30-f3fbf5f520ca>\u001b[0m in \u001b[0;36m<module>\u001b[1;34m\u001b[0m\n\u001b[1;32m----> 1\u001b[1;33m \u001b[0merr_xgb\u001b[0m\u001b[1;33m=\u001b[0m\u001b[0mmean_absolute_error\u001b[0m\u001b[1;33m(\u001b[0m\u001b[0my_train\u001b[0m\u001b[1;33m,\u001b[0m \u001b[0my_pred_train\u001b[0m\u001b[1;33m,\u001b[0m \u001b[0mmultioutput\u001b[0m\u001b[1;33m=\u001b[0m\u001b[1;34m'raw_values'\u001b[0m\u001b[1;33m)\u001b[0m\u001b[1;33m\u001b[0m\u001b[1;33m\u001b[0m\u001b[0m\n\u001b[0m",
      "\u001b[1;31mNameError\u001b[0m: name 'y_pred_train' is not defined"
     ]
    }
   ],
   "source": [
    "err_xgb=mean_absolute_error(y_train, y_pred_train, multioutput='raw_values')"
   ]
  },
  {
   "cell_type": "code",
   "execution_count": null,
   "metadata": {},
   "outputs": [],
   "source": []
  },
  {
   "cell_type": "code",
   "execution_count": 31,
   "metadata": {},
   "outputs": [],
   "source": [
    "from sklearn.linear_model import Lasso\n",
    "\n",
    "# you should try other algos for improvement in performance \n",
    "# the target here is not really suitable for linear regression or regression cost in general\n",
    "# as it takes always positive integer values \n",
    "# you should try PoissonRegressor available with sklearn .23 and onwards \n",
    "# if that is not available , you can also make use of objective :'count:poisson' with xgboost\n",
    "# you can also try HistGradientBoostingRegressor with loss='poisson'\n"
   ]
  },
  {
   "cell_type": "code",
   "execution_count": 32,
   "metadata": {},
   "outputs": [],
   "source": [
    "params={'alpha':np.linspace(0.01,10,100)}"
   ]
  },
  {
   "cell_type": "code",
   "execution_count": 33,
   "metadata": {},
   "outputs": [],
   "source": [
    "from sklearn.model_selection import GridSearchCV"
   ]
  },
  {
   "cell_type": "code",
   "execution_count": 34,
   "metadata": {},
   "outputs": [],
   "source": [
    "model=Lasso(fit_intercept=True)"
   ]
  },
  {
   "cell_type": "code",
   "execution_count": 35,
   "metadata": {},
   "outputs": [],
   "source": [
    "grid_search=GridSearchCV(model,cv=10,scoring='neg_mean_absolute_error',\n",
    "                         param_grid=params,n_jobs=-1,verbose=10)\n",
    "\n",
    "# you can also make use of mean_poisson_deviance as scoring , this ignores non-positive outcomes\n",
    "# it might not be avalaible with your version"
   ]
  },
  {
   "cell_type": "code",
   "execution_count": 36,
   "metadata": {},
   "outputs": [
    {
     "name": "stdout",
     "output_type": "stream",
     "text": [
      "Fitting 10 folds for each of 100 candidates, totalling 1000 fits\n"
     ]
    },
    {
     "name": "stderr",
     "output_type": "stream",
     "text": [
      "[Parallel(n_jobs=-1)]: Using backend LokyBackend with 4 concurrent workers.\n",
      "[Parallel(n_jobs=-1)]: Done   5 tasks      | elapsed:    2.0s\n",
      "[Parallel(n_jobs=-1)]: Done  10 tasks      | elapsed:    2.8s\n",
      "[Parallel(n_jobs=-1)]: Done  17 tasks      | elapsed:    3.7s\n",
      "[Parallel(n_jobs=-1)]: Done  24 tasks      | elapsed:    4.7s\n",
      "[Parallel(n_jobs=-1)]: Done  33 tasks      | elapsed:    5.7s\n",
      "[Parallel(n_jobs=-1)]: Done  42 tasks      | elapsed:    6.7s\n",
      "[Parallel(n_jobs=-1)]: Done  53 tasks      | elapsed:    8.0s\n",
      "[Parallel(n_jobs=-1)]: Done  64 tasks      | elapsed:    9.3s\n",
      "[Parallel(n_jobs=-1)]: Done  77 tasks      | elapsed:   10.7s\n",
      "[Parallel(n_jobs=-1)]: Done  90 tasks      | elapsed:   12.1s\n",
      "[Parallel(n_jobs=-1)]: Done 105 tasks      | elapsed:   13.8s\n",
      "[Parallel(n_jobs=-1)]: Done 120 tasks      | elapsed:   15.5s\n",
      "[Parallel(n_jobs=-1)]: Done 137 tasks      | elapsed:   17.3s\n",
      "[Parallel(n_jobs=-1)]: Done 154 tasks      | elapsed:   19.0s\n",
      "[Parallel(n_jobs=-1)]: Done 173 tasks      | elapsed:   21.2s\n",
      "[Parallel(n_jobs=-1)]: Done 192 tasks      | elapsed:   23.3s\n",
      "[Parallel(n_jobs=-1)]: Done 213 tasks      | elapsed:   25.6s\n",
      "[Parallel(n_jobs=-1)]: Done 234 tasks      | elapsed:   27.7s\n",
      "[Parallel(n_jobs=-1)]: Done 257 tasks      | elapsed:   30.3s\n",
      "[Parallel(n_jobs=-1)]: Done 280 tasks      | elapsed:   32.6s\n",
      "[Parallel(n_jobs=-1)]: Done 305 tasks      | elapsed:   35.0s\n",
      "[Parallel(n_jobs=-1)]: Done 330 tasks      | elapsed:   37.5s\n",
      "[Parallel(n_jobs=-1)]: Done 357 tasks      | elapsed:   40.5s\n",
      "[Parallel(n_jobs=-1)]: Done 384 tasks      | elapsed:   43.3s\n",
      "[Parallel(n_jobs=-1)]: Done 413 tasks      | elapsed:   46.1s\n",
      "[Parallel(n_jobs=-1)]: Done 442 tasks      | elapsed:   48.9s\n",
      "[Parallel(n_jobs=-1)]: Done 473 tasks      | elapsed:   52.1s\n",
      "[Parallel(n_jobs=-1)]: Done 504 tasks      | elapsed:   55.3s\n",
      "[Parallel(n_jobs=-1)]: Done 537 tasks      | elapsed:   58.6s\n",
      "[Parallel(n_jobs=-1)]: Done 570 tasks      | elapsed:  1.0min\n",
      "[Parallel(n_jobs=-1)]: Done 605 tasks      | elapsed:  1.1min\n",
      "[Parallel(n_jobs=-1)]: Done 640 tasks      | elapsed:  1.1min\n",
      "[Parallel(n_jobs=-1)]: Done 677 tasks      | elapsed:  1.2min\n",
      "[Parallel(n_jobs=-1)]: Done 714 tasks      | elapsed:  1.3min\n",
      "[Parallel(n_jobs=-1)]: Done 753 tasks      | elapsed:  1.3min\n",
      "[Parallel(n_jobs=-1)]: Done 792 tasks      | elapsed:  1.4min\n",
      "[Parallel(n_jobs=-1)]: Done 833 tasks      | elapsed:  1.5min\n",
      "[Parallel(n_jobs=-1)]: Done 874 tasks      | elapsed:  1.5min\n",
      "[Parallel(n_jobs=-1)]: Done 917 tasks      | elapsed:  1.6min\n",
      "[Parallel(n_jobs=-1)]: Done 960 tasks      | elapsed:  1.7min\n",
      "[Parallel(n_jobs=-1)]: Done 1000 out of 1000 | elapsed:  1.7min finished\n"
     ]
    },
    {
     "data": {
      "text/plain": [
       "GridSearchCV(cv=10, error_score=nan,\n",
       "             estimator=Lasso(alpha=1.0, copy_X=True, fit_intercept=True,\n",
       "                             max_iter=1000, normalize=False, positive=False,\n",
       "                             precompute=False, random_state=None,\n",
       "                             selection='cyclic', tol=0.0001, warm_start=False),\n",
       "             iid='deprecated', n_jobs=-1,\n",
       "             param_grid={'alpha': array([ 0.01      ,  0.11090909,  0.21181818,  0.31272727,  0.41363636,\n",
       "        0.51454545,  0.61545455,  0.716...\n",
       "        7.57818182,  7.67909091,  7.78      ,  7.88090909,  7.98181818,\n",
       "        8.08272727,  8.18363636,  8.28454545,  8.38545455,  8.48636364,\n",
       "        8.58727273,  8.68818182,  8.78909091,  8.89      ,  8.99090909,\n",
       "        9.09181818,  9.19272727,  9.29363636,  9.39454545,  9.49545455,\n",
       "        9.59636364,  9.69727273,  9.79818182,  9.89909091, 10.        ])},\n",
       "             pre_dispatch='2*n_jobs', refit=True, return_train_score=False,\n",
       "             scoring='neg_mean_absolute_error', verbose=10)"
      ]
     },
     "execution_count": 36,
     "metadata": {},
     "output_type": "execute_result"
    }
   ],
   "source": [
    "grid_search.fit(x_train,y_train)"
   ]
  },
  {
   "cell_type": "code",
   "execution_count": 37,
   "metadata": {},
   "outputs": [
    {
     "data": {
      "text/plain": [
       "Lasso(alpha=0.01, copy_X=True, fit_intercept=True, max_iter=1000,\n",
       "      normalize=False, positive=False, precompute=False, random_state=None,\n",
       "      selection='cyclic', tol=0.0001, warm_start=False)"
      ]
     },
     "execution_count": 37,
     "metadata": {},
     "output_type": "execute_result"
    }
   ],
   "source": [
    "grid_search.best_estimator_"
   ]
  },
  {
   "cell_type": "code",
   "execution_count": null,
   "metadata": {},
   "outputs": [],
   "source": [
    "# you can see that best estimator is at the edge of the alpha range that we tried . You\n",
    "# can expand on that, if you are using Lasso"
   ]
  },
  {
   "cell_type": "code",
   "execution_count": 38,
   "metadata": {},
   "outputs": [
    {
     "data": {
      "text/plain": [
       "2.748947530559763"
      ]
     },
     "execution_count": 38,
     "metadata": {},
     "output_type": "execute_result"
    }
   ],
   "source": [
    "abs(grid_search.best_score_)"
   ]
  },
  {
   "cell_type": "code",
   "execution_count": 39,
   "metadata": {},
   "outputs": [],
   "source": [
    "submissions=pd.DataFrame({'Hazard':grid_search.predict(x_test)})"
   ]
  },
  {
   "cell_type": "code",
   "execution_count": 40,
   "metadata": {},
   "outputs": [],
   "source": [
    "submissions.to_csv('sample_submission.csv',index=False)"
   ]
  },
  {
   "cell_type": "code",
   "execution_count": null,
   "metadata": {},
   "outputs": [],
   "source": []
  }
 ],
 "metadata": {
  "kernelspec": {
   "display_name": "Python 3",
   "language": "python",
   "name": "python3"
  },
  "language_info": {
   "codemirror_mode": {
    "name": "ipython",
    "version": 3
   },
   "file_extension": ".py",
   "mimetype": "text/x-python",
   "name": "python",
   "nbconvert_exporter": "python",
   "pygments_lexer": "ipython3",
   "version": "3.7.6"
  }
 },
 "nbformat": 4,
 "nbformat_minor": 2
}
